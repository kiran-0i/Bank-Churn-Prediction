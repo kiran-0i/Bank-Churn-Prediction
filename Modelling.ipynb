{
 "cells": [
  {
   "cell_type": "markdown",
   "metadata": {},
   "source": []
  },
  {
   "cell_type": "code",
   "execution_count": 245,
   "metadata": {},
   "outputs": [],
   "source": [
    "import numpy as np\n",
    "import pandas as pd\n",
    "import matplotlib.pyplot as plt\n",
    "import seaborn as sns\n",
    "import warnings\n",
    "warnings.simplefilter('ignore')\n",
    "\n",
    "from sklearn.model_selection import train_test_split\n",
    "from sklearn.ensemble import RandomForestClassifier\n",
    "from sklearn.model_selection import GridSearchCV\n",
    "import xgboost as xgb\n",
    "\n",
    "import tensorflow as tf\n",
    "from keras.callbacks import EarlyStopping, ModelCheckpoint\n",
    "from tensorflow.keras import Sequential\n",
    "from tensorflow.keras.layers import Dense,ReLU\n",
    "from keras.models import load_model\n",
    "\n",
    "from xgboost import  XGBClassifier\n",
    "from sklearn.metrics import roc_auc_score,confusion_matrix,f1_score,accuracy_score, recall_score,classification_report,get_scorer_names\n",
    "from sklearn.metrics import roc_curve, precision_recall_curve,plot_roc_curve\n",
    "\n"
   ]
  },
  {
   "cell_type": "code",
   "execution_count": 246,
   "metadata": {},
   "outputs": [
    {
     "data": {
      "text/html": [
       "<div>\n",
       "<style scoped>\n",
       "    .dataframe tbody tr th:only-of-type {\n",
       "        vertical-align: middle;\n",
       "    }\n",
       "\n",
       "    .dataframe tbody tr th {\n",
       "        vertical-align: top;\n",
       "    }\n",
       "\n",
       "    .dataframe thead th {\n",
       "        text-align: right;\n",
       "    }\n",
       "</style>\n",
       "<table border=\"1\" class=\"dataframe\">\n",
       "  <thead>\n",
       "    <tr style=\"text-align: right;\">\n",
       "      <th></th>\n",
       "      <th>CreditScore</th>\n",
       "      <th>Geography</th>\n",
       "      <th>Gender</th>\n",
       "      <th>Age</th>\n",
       "      <th>Tenure</th>\n",
       "      <th>Balance</th>\n",
       "      <th>NumOfProducts</th>\n",
       "      <th>HasCrCard</th>\n",
       "      <th>IsActiveMember</th>\n",
       "      <th>EstimatedSalary</th>\n",
       "      <th>Exited</th>\n",
       "    </tr>\n",
       "  </thead>\n",
       "  <tbody>\n",
       "    <tr>\n",
       "      <th>0</th>\n",
       "      <td>619</td>\n",
       "      <td>France</td>\n",
       "      <td>Female</td>\n",
       "      <td>42</td>\n",
       "      <td>2</td>\n",
       "      <td>0.00</td>\n",
       "      <td>1</td>\n",
       "      <td>1</td>\n",
       "      <td>1</td>\n",
       "      <td>101348.88</td>\n",
       "      <td>1</td>\n",
       "    </tr>\n",
       "    <tr>\n",
       "      <th>1</th>\n",
       "      <td>608</td>\n",
       "      <td>Spain</td>\n",
       "      <td>Female</td>\n",
       "      <td>41</td>\n",
       "      <td>1</td>\n",
       "      <td>83807.86</td>\n",
       "      <td>1</td>\n",
       "      <td>0</td>\n",
       "      <td>1</td>\n",
       "      <td>112542.58</td>\n",
       "      <td>0</td>\n",
       "    </tr>\n",
       "    <tr>\n",
       "      <th>2</th>\n",
       "      <td>502</td>\n",
       "      <td>France</td>\n",
       "      <td>Female</td>\n",
       "      <td>42</td>\n",
       "      <td>8</td>\n",
       "      <td>159660.80</td>\n",
       "      <td>3</td>\n",
       "      <td>1</td>\n",
       "      <td>0</td>\n",
       "      <td>113931.57</td>\n",
       "      <td>1</td>\n",
       "    </tr>\n",
       "    <tr>\n",
       "      <th>3</th>\n",
       "      <td>699</td>\n",
       "      <td>France</td>\n",
       "      <td>Female</td>\n",
       "      <td>39</td>\n",
       "      <td>1</td>\n",
       "      <td>0.00</td>\n",
       "      <td>2</td>\n",
       "      <td>0</td>\n",
       "      <td>0</td>\n",
       "      <td>93826.63</td>\n",
       "      <td>0</td>\n",
       "    </tr>\n",
       "    <tr>\n",
       "      <th>4</th>\n",
       "      <td>850</td>\n",
       "      <td>Spain</td>\n",
       "      <td>Female</td>\n",
       "      <td>43</td>\n",
       "      <td>2</td>\n",
       "      <td>125510.82</td>\n",
       "      <td>1</td>\n",
       "      <td>1</td>\n",
       "      <td>1</td>\n",
       "      <td>79084.10</td>\n",
       "      <td>0</td>\n",
       "    </tr>\n",
       "  </tbody>\n",
       "</table>\n",
       "</div>"
      ],
      "text/plain": [
       "   CreditScore Geography  Gender  ...  IsActiveMember  EstimatedSalary  Exited\n",
       "0          619    France  Female  ...               1        101348.88       1\n",
       "1          608     Spain  Female  ...               1        112542.58       0\n",
       "2          502    France  Female  ...               0        113931.57       1\n",
       "3          699    France  Female  ...               0         93826.63       0\n",
       "4          850     Spain  Female  ...               1         79084.10       0\n",
       "\n",
       "[5 rows x 11 columns]"
      ]
     },
     "execution_count": 246,
     "metadata": {},
     "output_type": "execute_result"
    }
   ],
   "source": [
    "df=pd.read_csv('afterEDA.csv')\n",
    "df.drop('Unnamed: 0',axis=1,inplace=True)\n",
    "df.head()\n"
   ]
  },
  {
   "cell_type": "code",
   "execution_count": 247,
   "metadata": {},
   "outputs": [
    {
     "name": "stdout",
     "output_type": "stream",
     "text": [
      "(10000,)\n",
      "(10000, 10)\n"
     ]
    }
   ],
   "source": [
    "#y is our target variable and X are independent features\n",
    "y=df['Exited']\n",
    "X=df.drop('Exited',axis=1)\n",
    "print(y.shape)\n",
    "print(X.shape)"
   ]
  },
  {
   "cell_type": "code",
   "execution_count": 248,
   "metadata": {},
   "outputs": [
    {
     "data": {
      "text/plain": [
       "0    0.7963\n",
       "1    0.2037\n",
       "Name: Exited, dtype: float64"
      ]
     },
     "execution_count": 248,
     "metadata": {},
     "output_type": "execute_result"
    }
   ],
   "source": [
    "y.value_counts(normalize=True)\n",
    "#our class is imbalanced but it can work "
   ]
  },
  {
   "cell_type": "code",
   "execution_count": 249,
   "metadata": {},
   "outputs": [
    {
     "name": "stdout",
     "output_type": "stream",
     "text": [
      "['Geography', 'Gender']\n"
     ]
    },
    {
     "data": {
      "text/html": [
       "<div>\n",
       "<style scoped>\n",
       "    .dataframe tbody tr th:only-of-type {\n",
       "        vertical-align: middle;\n",
       "    }\n",
       "\n",
       "    .dataframe tbody tr th {\n",
       "        vertical-align: top;\n",
       "    }\n",
       "\n",
       "    .dataframe thead th {\n",
       "        text-align: right;\n",
       "    }\n",
       "</style>\n",
       "<table border=\"1\" class=\"dataframe\">\n",
       "  <thead>\n",
       "    <tr style=\"text-align: right;\">\n",
       "      <th></th>\n",
       "      <th>CreditScore</th>\n",
       "      <th>Age</th>\n",
       "      <th>Tenure</th>\n",
       "      <th>Balance</th>\n",
       "      <th>NumOfProducts</th>\n",
       "      <th>HasCrCard</th>\n",
       "      <th>IsActiveMember</th>\n",
       "      <th>EstimatedSalary</th>\n",
       "      <th>Geography_Germany</th>\n",
       "      <th>Geography_Spain</th>\n",
       "      <th>Gender_Male</th>\n",
       "    </tr>\n",
       "  </thead>\n",
       "  <tbody>\n",
       "    <tr>\n",
       "      <th>0</th>\n",
       "      <td>619</td>\n",
       "      <td>42</td>\n",
       "      <td>2</td>\n",
       "      <td>0.00</td>\n",
       "      <td>1</td>\n",
       "      <td>1</td>\n",
       "      <td>1</td>\n",
       "      <td>101348.88</td>\n",
       "      <td>0</td>\n",
       "      <td>0</td>\n",
       "      <td>0</td>\n",
       "    </tr>\n",
       "    <tr>\n",
       "      <th>1</th>\n",
       "      <td>608</td>\n",
       "      <td>41</td>\n",
       "      <td>1</td>\n",
       "      <td>83807.86</td>\n",
       "      <td>1</td>\n",
       "      <td>0</td>\n",
       "      <td>1</td>\n",
       "      <td>112542.58</td>\n",
       "      <td>0</td>\n",
       "      <td>1</td>\n",
       "      <td>0</td>\n",
       "    </tr>\n",
       "    <tr>\n",
       "      <th>2</th>\n",
       "      <td>502</td>\n",
       "      <td>42</td>\n",
       "      <td>8</td>\n",
       "      <td>159660.80</td>\n",
       "      <td>3</td>\n",
       "      <td>1</td>\n",
       "      <td>0</td>\n",
       "      <td>113931.57</td>\n",
       "      <td>0</td>\n",
       "      <td>0</td>\n",
       "      <td>0</td>\n",
       "    </tr>\n",
       "  </tbody>\n",
       "</table>\n",
       "</div>"
      ],
      "text/plain": [
       "   CreditScore  Age  Tenure  ...  Geography_Germany  Geography_Spain  Gender_Male\n",
       "0          619   42       2  ...                  0                0            0\n",
       "1          608   41       1  ...                  0                1            0\n",
       "2          502   42       8  ...                  0                0            0\n",
       "\n",
       "[3 rows x 11 columns]"
      ]
     },
     "execution_count": 249,
     "metadata": {},
     "output_type": "execute_result"
    }
   ],
   "source": [
    "cat_cols= list(df.select_dtypes('object').columns)\n",
    "print(cat_cols)\n",
    "X= pd.get_dummies(X, columns=cat_cols, drop_first=True)\n",
    "X.head(3)"
   ]
  },
  {
   "cell_type": "code",
   "execution_count": 250,
   "metadata": {},
   "outputs": [
    {
     "name": "stdout",
     "output_type": "stream",
     "text": [
      "(8000, 11) (8000,)\n",
      "(2000, 11) (2000,)\n"
     ]
    }
   ],
   "source": [
    "# Spliting data into train and test sets, for imblanced data use stratified sampling because there \n",
    "# is a risk of ending up with almost no cases of minority class\n",
    "X_train, X_test, y_train, y_test = train_test_split(X, y, test_size=0.20,random_state=45,stratify=df.Exited)\n",
    "\n",
    "print(X_train.shape, y_train.shape)\n",
    "print(X_test.shape, y_test.shape)"
   ]
  },
  {
   "cell_type": "code",
   "execution_count": 251,
   "metadata": {},
   "outputs": [
    {
     "name": "stdout",
     "output_type": "stream",
     "text": [
      "0    0.5\n",
      "1    0.5\n",
      "Name: Exited, dtype: float64\n"
     ]
    }
   ],
   "source": [
    "from imblearn.over_sampling import SMOTE \n",
    "smote= SMOTE(random_state=42)\n",
    "X_train, y_train= smote.fit_resample(X_train, y_train)\n",
    "print(y_train.value_counts(normalize=True))\n",
    "#now class is balanced"
   ]
  },
  {
   "cell_type": "code",
   "execution_count": 252,
   "metadata": {},
   "outputs": [],
   "source": [
    "from sklearn.preprocessing import StandardScaler\n",
    "sc = StandardScaler()\n",
    "X_train = sc.fit_transform(X_train)\n",
    "X_test = sc.transform(X_test)"
   ]
  },
  {
   "cell_type": "code",
   "execution_count": 222,
   "metadata": {},
   "outputs": [
    {
     "name": "stdout",
     "output_type": "stream",
     "text": [
      "Model: \"sequential_11\"\n",
      "_________________________________________________________________\n",
      " Layer (type)                Output Shape              Param #   \n",
      "=================================================================\n",
      " dense_33 (Dense)            (None, 10)                120       \n",
      "                                                                 \n",
      " dense_34 (Dense)            (None, 5)                 55        \n",
      "                                                                 \n",
      " dense_35 (Dense)            (None, 1)                 6         \n",
      "                                                                 \n",
      "=================================================================\n",
      "Total params: 181\n",
      "Trainable params: 181\n",
      "Non-trainable params: 0\n",
      "_________________________________________________________________\n"
     ]
    }
   ],
   "source": [
    "#building model\n",
    "model = Sequential([ \n",
    "Dense(units=10,activation='relu',input_dim=11), \n",
    "Dense(units=5,activation='relu'),\n",
    "Dense(units=1,activation='sigmoid')\n",
    "])\n",
    "model.summary()"
   ]
  },
  {
   "cell_type": "code",
   "execution_count": 223,
   "metadata": {},
   "outputs": [],
   "source": [
    "model.compile(optimizer = 'Adam',loss='binary_crossentropy',metrics=['accuracy'])"
   ]
  },
  {
   "cell_type": "markdown",
   "metadata": {},
   "source": [
    "early stopping is method to stop epoch when model performance stops improving on hold out validation dataset in neural network"
   ]
  },
  {
   "cell_type": "code",
   "execution_count": 225,
   "metadata": {},
   "outputs": [
    {
     "name": "stdout",
     "output_type": "stream",
     "text": [
      "Epoch 1/200\n",
      "319/319 [==============================] - 1s 2ms/step - loss: 0.3901 - accuracy: 0.8298 - val_loss: 0.4249 - val_accuracy: 0.7979\n",
      "Epoch 2/200\n",
      "319/319 [==============================] - 1s 2ms/step - loss: 0.3895 - accuracy: 0.8312 - val_loss: 0.4141 - val_accuracy: 0.8002\n",
      "Epoch 3/200\n",
      "319/319 [==============================] - 1s 2ms/step - loss: 0.3888 - accuracy: 0.8300 - val_loss: 0.4127 - val_accuracy: 0.8034\n",
      "Epoch 4/200\n",
      "319/319 [==============================] - 1s 2ms/step - loss: 0.3890 - accuracy: 0.8300 - val_loss: 0.4519 - val_accuracy: 0.7806\n",
      "Epoch 5/200\n",
      "319/319 [==============================] - 0s 1ms/step - loss: 0.3886 - accuracy: 0.8303 - val_loss: 0.4095 - val_accuracy: 0.8010\n",
      "Epoch 6/200\n",
      "319/319 [==============================] - 0s 1ms/step - loss: 0.3882 - accuracy: 0.8308 - val_loss: 0.3773 - val_accuracy: 0.8187\n",
      "Epoch 7/200\n",
      "319/319 [==============================] - 1s 2ms/step - loss: 0.3882 - accuracy: 0.8302 - val_loss: 0.3992 - val_accuracy: 0.8081\n",
      "Epoch 8/200\n",
      "319/319 [==============================] - 1s 2ms/step - loss: 0.3881 - accuracy: 0.8309 - val_loss: 0.4186 - val_accuracy: 0.7987\n",
      "Epoch 9/200\n",
      "319/319 [==============================] - 1s 2ms/step - loss: 0.3877 - accuracy: 0.8307 - val_loss: 0.4436 - val_accuracy: 0.7853\n",
      "Epoch 10/200\n",
      "319/319 [==============================] - 1s 2ms/step - loss: 0.3881 - accuracy: 0.8289 - val_loss: 0.4135 - val_accuracy: 0.8014\n",
      "Epoch 11/200\n",
      "319/319 [==============================] - 1s 2ms/step - loss: 0.3871 - accuracy: 0.8303 - val_loss: 0.4023 - val_accuracy: 0.8034\n",
      "Epoch 12/200\n",
      "319/319 [==============================] - 1s 3ms/step - loss: 0.3872 - accuracy: 0.8295 - val_loss: 0.4177 - val_accuracy: 0.7975\n",
      "Epoch 13/200\n",
      "319/319 [==============================] - 1s 4ms/step - loss: 0.3869 - accuracy: 0.8293 - val_loss: 0.3986 - val_accuracy: 0.8057\n",
      "Epoch 14/200\n",
      "319/319 [==============================] - 1s 3ms/step - loss: 0.3872 - accuracy: 0.8320 - val_loss: 0.4317 - val_accuracy: 0.7912\n",
      "Epoch 15/200\n",
      "319/319 [==============================] - 1s 3ms/step - loss: 0.3870 - accuracy: 0.8312 - val_loss: 0.4295 - val_accuracy: 0.7889\n",
      "Epoch 16/200\n",
      "319/319 [==============================] - 1s 3ms/step - loss: 0.3871 - accuracy: 0.8307 - val_loss: 0.4314 - val_accuracy: 0.7904\n",
      "Epoch 17/200\n",
      "319/319 [==============================] - 1s 4ms/step - loss: 0.3869 - accuracy: 0.8332 - val_loss: 0.4233 - val_accuracy: 0.7947\n",
      "Epoch 18/200\n",
      "319/319 [==============================] - 1s 4ms/step - loss: 0.3866 - accuracy: 0.8306 - val_loss: 0.4574 - val_accuracy: 0.7794\n",
      "Epoch 19/200\n",
      "319/319 [==============================] - 1s 3ms/step - loss: 0.3866 - accuracy: 0.8295 - val_loss: 0.4064 - val_accuracy: 0.8061\n",
      "Epoch 20/200\n",
      "319/319 [==============================] - 1s 3ms/step - loss: 0.3863 - accuracy: 0.8316 - val_loss: 0.4363 - val_accuracy: 0.7896\n",
      "Epoch 21/200\n",
      "319/319 [==============================] - 1s 3ms/step - loss: 0.3864 - accuracy: 0.8291 - val_loss: 0.4175 - val_accuracy: 0.7955\n",
      "Epoch 22/200\n",
      "319/319 [==============================] - 1s 3ms/step - loss: 0.3860 - accuracy: 0.8304 - val_loss: 0.4024 - val_accuracy: 0.8085\n",
      "Epoch 23/200\n",
      "319/319 [==============================] - 1s 3ms/step - loss: 0.3858 - accuracy: 0.8299 - val_loss: 0.4075 - val_accuracy: 0.8042\n",
      "Epoch 24/200\n",
      "319/319 [==============================] - 1s 3ms/step - loss: 0.3858 - accuracy: 0.8312 - val_loss: 0.4114 - val_accuracy: 0.7998\n",
      "Epoch 25/200\n",
      "319/319 [==============================] - 1s 4ms/step - loss: 0.3863 - accuracy: 0.8314 - val_loss: 0.4137 - val_accuracy: 0.7975\n",
      "Epoch 26/200\n",
      "319/319 [==============================] - 1s 4ms/step - loss: 0.3861 - accuracy: 0.8296 - val_loss: 0.4291 - val_accuracy: 0.7881\n",
      "Epoch 26: early stopping\n"
     ]
    }
   ],
   "source": [
    "es = EarlyStopping(monitor=\"val_loss\", min_delta=0.001, patience=20, verbose=2, mode='auto', baseline=None, restore_best_weights=False)\n",
    "\n",
    "history = model.fit(X_train,y_train,validation_split=0.2,epochs=200,callbacks=es)\n",
    "\n",
    "#loss: traning loss, should be decreasing order\n",
    "#accuracy: trainig accuracy, shoulb be in increasing order\n",
    "#val_loss: validation loss, should be decreasing and close to training loss\n",
    "#val_accuracy: validation accuracy, should be increasing order and close to training accuracy"
   ]
  },
  {
   "cell_type": "code",
   "execution_count": 226,
   "metadata": {},
   "outputs": [
    {
     "name": "stdout",
     "output_type": "stream",
     "text": [
      "399/399 [==============================] - 0s 808us/step\n",
      "Accuracy % age: 82.48\n",
      "399/399 [==============================] - 0s 1ms/step\n",
      "ROC-AUC Score: 0.911\n",
      "\n",
      "Classification Report:\n",
      "              precision    recall  f1-score   support\n",
      "\n",
      "           0       0.78      0.90      0.84      6370\n",
      "           1       0.89      0.75      0.81      6370\n",
      "\n",
      "    accuracy                           0.82     12740\n",
      "   macro avg       0.83      0.82      0.82     12740\n",
      "weighted avg       0.83      0.82      0.82     12740\n",
      "\n",
      "\n",
      "Confusion Matrix:\n",
      "[[5756  614]\n",
      " [1618 4752]]\n"
     ]
    },
    {
     "data": {
      "text/plain": [
       "'Done'"
      ]
     },
     "execution_count": 226,
     "metadata": {},
     "output_type": "execute_result"
    }
   ],
   "source": [
    "ytrain_log = model.predict(X_train)\n",
    "ytrain_pred = np.where(ytrain_log>0.5,1,0) # this means if y_log > 0.5 then 1 else 0\n",
    "\n",
    "def error_metrics(actual, predicted, X_data):\n",
    "    print('Accuracy % age: ' + str(np.round(accuracy_score(actual, predicted)*100, 2)))\n",
    "    print('ROC-AUC Score: ' + str(np.round(roc_auc_score(actual, model.predict(X_data)),3)))\n",
    "    print('\\nClassification Report:')\n",
    "    print(classification_report(actual, predicted))\n",
    "    print('\\nConfusion Matrix:')\n",
    "    print(confusion_matrix(actual, predicted))\n",
    "    return \"Done\"\n",
    "\n",
    "error_metrics(y_train,ytrain_pred,X_train)"
   ]
  },
  {
   "cell_type": "code",
   "execution_count": 227,
   "metadata": {},
   "outputs": [
    {
     "name": "stdout",
     "output_type": "stream",
     "text": [
      "63/63 [==============================] - 0s 887us/step\n",
      "Accuracy % age: 83.15\n",
      "63/63 [==============================] - 0s 865us/step\n",
      "ROC-AUC Score: 0.832\n",
      "\n",
      "Classification Report:\n",
      "              precision    recall  f1-score   support\n",
      "\n",
      "           0       0.90      0.89      0.89      1593\n",
      "           1       0.58      0.59      0.59       407\n",
      "\n",
      "    accuracy                           0.83      2000\n",
      "   macro avg       0.74      0.74      0.74      2000\n",
      "weighted avg       0.83      0.83      0.83      2000\n",
      "\n",
      "\n",
      "Confusion Matrix:\n",
      "[[1421  172]\n",
      " [ 165  242]]\n"
     ]
    },
    {
     "data": {
      "text/plain": [
       "'Done'"
      ]
     },
     "execution_count": 227,
     "metadata": {},
     "output_type": "execute_result"
    }
   ],
   "source": [
    "ytest_log = model.predict(X_test)\n",
    "ytest_pred = np.where(ytest_log>0.5,1,0)\n",
    "accuracy_score(y_test,ytest_pred)\n",
    "\n",
    "error_metrics(y_test,ytest_pred,X_test)"
   ]
  },
  {
   "cell_type": "markdown",
   "metadata": {},
   "source": [
    "Train accuacy is 82.48 and test accuracy is 83.15 close to each other, that's decent accuracy\n"
   ]
  },
  {
   "cell_type": "markdown",
   "metadata": {},
   "source": [
    "Xgboost Model"
   ]
  },
  {
   "cell_type": "code",
   "execution_count": 259,
   "metadata": {},
   "outputs": [
    {
     "name": "stdout",
     "output_type": "stream",
     "text": [
      "Fitting 5 folds for each of 45 candidates, totalling 225 fits\n"
     ]
    },
    {
     "data": {
      "text/html": [
       "<style>#sk-container-id-4 {color: black;background-color: white;}#sk-container-id-4 pre{padding: 0;}#sk-container-id-4 div.sk-toggleable {background-color: white;}#sk-container-id-4 label.sk-toggleable__label {cursor: pointer;display: block;width: 100%;margin-bottom: 0;padding: 0.3em;box-sizing: border-box;text-align: center;}#sk-container-id-4 label.sk-toggleable__label-arrow:before {content: \"▸\";float: left;margin-right: 0.25em;color: #696969;}#sk-container-id-4 label.sk-toggleable__label-arrow:hover:before {color: black;}#sk-container-id-4 div.sk-estimator:hover label.sk-toggleable__label-arrow:before {color: black;}#sk-container-id-4 div.sk-toggleable__content {max-height: 0;max-width: 0;overflow: hidden;text-align: left;background-color: #f0f8ff;}#sk-container-id-4 div.sk-toggleable__content pre {margin: 0.2em;color: black;border-radius: 0.25em;background-color: #f0f8ff;}#sk-container-id-4 input.sk-toggleable__control:checked~div.sk-toggleable__content {max-height: 200px;max-width: 100%;overflow: auto;}#sk-container-id-4 input.sk-toggleable__control:checked~label.sk-toggleable__label-arrow:before {content: \"▾\";}#sk-container-id-4 div.sk-estimator input.sk-toggleable__control:checked~label.sk-toggleable__label {background-color: #d4ebff;}#sk-container-id-4 div.sk-label input.sk-toggleable__control:checked~label.sk-toggleable__label {background-color: #d4ebff;}#sk-container-id-4 input.sk-hidden--visually {border: 0;clip: rect(1px 1px 1px 1px);clip: rect(1px, 1px, 1px, 1px);height: 1px;margin: -1px;overflow: hidden;padding: 0;position: absolute;width: 1px;}#sk-container-id-4 div.sk-estimator {font-family: monospace;background-color: #f0f8ff;border: 1px dotted black;border-radius: 0.25em;box-sizing: border-box;margin-bottom: 0.5em;}#sk-container-id-4 div.sk-estimator:hover {background-color: #d4ebff;}#sk-container-id-4 div.sk-parallel-item::after {content: \"\";width: 100%;border-bottom: 1px solid gray;flex-grow: 1;}#sk-container-id-4 div.sk-label:hover label.sk-toggleable__label {background-color: #d4ebff;}#sk-container-id-4 div.sk-serial::before {content: \"\";position: absolute;border-left: 1px solid gray;box-sizing: border-box;top: 0;bottom: 0;left: 50%;z-index: 0;}#sk-container-id-4 div.sk-serial {display: flex;flex-direction: column;align-items: center;background-color: white;padding-right: 0.2em;padding-left: 0.2em;position: relative;}#sk-container-id-4 div.sk-item {position: relative;z-index: 1;}#sk-container-id-4 div.sk-parallel {display: flex;align-items: stretch;justify-content: center;background-color: white;position: relative;}#sk-container-id-4 div.sk-item::before, #sk-container-id-4 div.sk-parallel-item::before {content: \"\";position: absolute;border-left: 1px solid gray;box-sizing: border-box;top: 0;bottom: 0;left: 50%;z-index: -1;}#sk-container-id-4 div.sk-parallel-item {display: flex;flex-direction: column;z-index: 1;position: relative;background-color: white;}#sk-container-id-4 div.sk-parallel-item:first-child::after {align-self: flex-end;width: 50%;}#sk-container-id-4 div.sk-parallel-item:last-child::after {align-self: flex-start;width: 50%;}#sk-container-id-4 div.sk-parallel-item:only-child::after {width: 0;}#sk-container-id-4 div.sk-dashed-wrapped {border: 1px dashed gray;margin: 0 0.4em 0.5em 0.4em;box-sizing: border-box;padding-bottom: 0.4em;background-color: white;}#sk-container-id-4 div.sk-label label {font-family: monospace;font-weight: bold;display: inline-block;line-height: 1.2em;}#sk-container-id-4 div.sk-label-container {text-align: center;}#sk-container-id-4 div.sk-container {/* jupyter's `normalize.less` sets `[hidden] { display: none; }` but bootstrap.min.css set `[hidden] { display: none !important; }` so we also need the `!important` here to be able to override the default hidden behavior on the sphinx rendered scikit-learn.org. See: https://github.com/scikit-learn/scikit-learn/issues/21755 */display: inline-block !important;position: relative;}#sk-container-id-4 div.sk-text-repr-fallback {display: none;}</style><div id=\"sk-container-id-4\" class=\"sk-top-container\"><div class=\"sk-text-repr-fallback\"><pre>XGBClassifier(base_score=0.5, booster=&#x27;gbtree&#x27;, callbacks=None,\n",
       "              colsample_bylevel=1, colsample_bynode=1, colsample_bytree=0.7,\n",
       "              early_stopping_rounds=None, enable_categorical=False,\n",
       "              eval_metric=None, gamma=0, gpu_id=-1, grow_policy=&#x27;depthwise&#x27;,\n",
       "              importance_type=None, interaction_constraints=&#x27;&#x27;,\n",
       "              learning_rate=0.04, max_bin=256, max_cat_to_onehot=4,\n",
       "              max_delta_step=0, max_depth=5, max_leaves=0, min_child_weight=2,\n",
       "              missing=nan, monotone_constraints=&#x27;()&#x27;, n_estimators=100,\n",
       "              n_jobs=4, nthread=4, num_parallel_tree=1, predictor=&#x27;auto&#x27;,\n",
       "              random_state=3, reg_alpha=0, ...)</pre><b>In a Jupyter environment, please rerun this cell to show the HTML representation or trust the notebook. <br />On GitHub, the HTML representation is unable to render, please try loading this page with nbviewer.org.</b></div><div class=\"sk-container\" hidden><div class=\"sk-item\"><div class=\"sk-estimator sk-toggleable\"><input class=\"sk-toggleable__control sk-hidden--visually\" id=\"sk-estimator-id-4\" type=\"checkbox\" checked><label for=\"sk-estimator-id-4\" class=\"sk-toggleable__label sk-toggleable__label-arrow\">XGBClassifier</label><div class=\"sk-toggleable__content\"><pre>XGBClassifier(base_score=0.5, booster=&#x27;gbtree&#x27;, callbacks=None,\n",
       "              colsample_bylevel=1, colsample_bynode=1, colsample_bytree=0.7,\n",
       "              early_stopping_rounds=None, enable_categorical=False,\n",
       "              eval_metric=None, gamma=0, gpu_id=-1, grow_policy=&#x27;depthwise&#x27;,\n",
       "              importance_type=None, interaction_constraints=&#x27;&#x27;,\n",
       "              learning_rate=0.04, max_bin=256, max_cat_to_onehot=4,\n",
       "              max_delta_step=0, max_depth=5, max_leaves=0, min_child_weight=2,\n",
       "              missing=nan, monotone_constraints=&#x27;()&#x27;, n_estimators=100,\n",
       "              n_jobs=4, nthread=4, num_parallel_tree=1, predictor=&#x27;auto&#x27;,\n",
       "              random_state=3, reg_alpha=0, ...)</pre></div></div></div></div></div>"
      ],
      "text/plain": [
       "XGBClassifier(base_score=0.5, booster='gbtree', callbacks=None,\n",
       "              colsample_bylevel=1, colsample_bynode=1, colsample_bytree=0.7,\n",
       "              early_stopping_rounds=None, enable_categorical=False,\n",
       "              eval_metric=None, gamma=0, gpu_id=-1, grow_policy='depthwise',\n",
       "              importance_type=None, interaction_constraints='',\n",
       "              learning_rate=0.04, max_bin=256, max_cat_to_onehot=4,\n",
       "              max_delta_step=0, max_depth=5, max_leaves=0, min_child_weight=2,\n",
       "              missing=nan, monotone_constraints='()', n_estimators=100,\n",
       "              n_jobs=4, nthread=4, num_parallel_tree=1, predictor='auto',\n",
       "              random_state=3, reg_alpha=0, ...)"
      ]
     },
     "execution_count": 259,
     "metadata": {},
     "output_type": "execute_result"
    }
   ],
   "source": [
    "xgb_weighted = XGBClassifier(verbosity = 0, random_state = 3)\n",
    "\n",
    "grid_list = {'nthread':[4], 'objective':['binary:logistic'], 'learning_rate': [0.001,0.006, 0.01, 0.03,0.04],\n",
    "             'max_depth': [2,4,5], 'min_child_weight': [2,3,4], 'silent': [1],\n",
    "             'subsample': [0.7], 'colsample_bytree': [0.7], 'n_estimators': [100]}\n",
    "\n",
    "# initializing the gridsearch and finding optimum set of hyperparameters. Error metric used is roc_auc score.\n",
    "# Training the gridsearch and finding the best model.\n",
    "xgb_grid_search = GridSearchCV(estimator = xgb_weighted, param_grid = grid_list, cv = 5, n_jobs = 4, \n",
    "                               verbose = 1, scoring = 'f1')\n",
    "xgb_grid_search.fit(X_train, y_train)\n",
    "xgb_best_model = xgb_grid_search.best_estimator_\n",
    "xgb_best_model"
   ]
  },
  {
   "cell_type": "code",
   "execution_count": 260,
   "metadata": {},
   "outputs": [
    {
     "name": "stdout",
     "output_type": "stream",
     "text": [
      "\n",
      "Training\n",
      "------------------------------------------------------------\n",
      "Accuracy % age: 84.75\n",
      "ROC-AUC Score: 0.926\n",
      "\n",
      "Classification Report:\n",
      "              precision    recall  f1-score   support\n",
      "\n",
      "           0       0.84      0.85      0.85      6370\n",
      "           1       0.85      0.84      0.85      6370\n",
      "\n",
      "    accuracy                           0.85     12740\n",
      "   macro avg       0.85      0.85      0.85     12740\n",
      "weighted avg       0.85      0.85      0.85     12740\n",
      "\n",
      "\n",
      "Confusion Matrix:\n",
      "[[5439  931]\n",
      " [1012 5358]]\n",
      "\n",
      " ROC-AUC Curve for the training set\n"
     ]
    },
    {
     "data": {
      "image/png": "[encoded data removed]",
      "text/plain": [
       "<Figure size 432x288 with 1 Axes>"
      ]
     },
     "metadata": {
      "needs_background": "light"
     },
     "output_type": "display_data"
    }
   ],
   "source": [
    "def error_metrics(actual, predicted, X_data):\n",
    "    print('Accuracy % age: ' + str(np.round(accuracy_score(actual, predicted)*100, 2)))\n",
    "    print('ROC-AUC Score: ' + str(np.round(roc_auc_score(actual, xgb_best_model.predict_proba(X_data)[:,1]),3)))\n",
    "    print('\\nClassification Report:')\n",
    "    print(classification_report(actual, predicted))\n",
    "    print('\\nConfusion Matrix:')\n",
    "    print(confusion_matrix(actual, predicted))\n",
    "    return \"Done\"\n",
    "\n",
    "print(\"\\nTraining\\n------------------------------------------------------------\")\n",
    "y_train_pred = xgb_best_model.predict(X_train)\n",
    "error_metrics(y_train, y_train_pred, X_train)\n",
    "\n",
    "print(\"\\n ROC-AUC Curve for the training set\")\n",
    "plot_roc_curve(xgb_best_model, X_train, y_train)\n",
    "plt.show()"
   ]
  },
  {
   "cell_type": "code",
   "execution_count": 261,
   "metadata": {},
   "outputs": [
    {
     "name": "stdout",
     "output_type": "stream",
     "text": [
      "\n",
      "Testing\n",
      "------------------------------------------------------------\n",
      "Accuracy % age: 80.8\n",
      "ROC-AUC Score: 0.844\n",
      "\n",
      "Classification Report:\n",
      "              precision    recall  f1-score   support\n",
      "\n",
      "           0       0.91      0.84      0.87      1593\n",
      "           1       0.52      0.69      0.59       407\n",
      "\n",
      "    accuracy                           0.81      2000\n",
      "   macro avg       0.72      0.76      0.73      2000\n",
      "weighted avg       0.83      0.81      0.82      2000\n",
      "\n",
      "\n",
      "Confusion Matrix:\n",
      "[[1336  257]\n",
      " [ 127  280]]\n",
      "\n",
      " ROC-AUC Curve for the testing set\n"
     ]
    },
    {
     "data": {
      "image/png": "[encoded data removed]",
      "text/plain": [
       "<Figure size 432x288 with 1 Axes>"
      ]
     },
     "metadata": {
      "needs_background": "light"
     },
     "output_type": "display_data"
    }
   ],
   "source": [
    "### Testing Dataset metrics and ROC-AUC Curve\n",
    "print(\"\\nTesting\\n------------------------------------------------------------\")\n",
    "y_test_pred = xgb_best_model.predict(X_test)\n",
    "error_metrics(y_test, y_test_pred, X_test)\n",
    "\n",
    "print(\"\\n ROC-AUC Curve for the testing set\")\n",
    "plot_roc_curve(xgb_best_model, X_test, y_test)\n",
    "plt.show()"
   ]
  },
  {
   "cell_type": "markdown",
   "metadata": {},
   "source": []
  }
 ],
 "metadata": {
  "kernelspec": {
   "display_name": "Python 3.9.12 ('base')",
   "language": "python",
   "name": "python3"
  },
  "language_info": {
   "codemirror_mode": {
    "name": "ipython",
    "version": 3
   },
   "file_extension": ".py",
   "mimetype": "text/x-python",
   "name": "python",
   "nbconvert_exporter": "python",
   "pygments_lexer": "ipython3",
   "version": "3.9.12"
  },
  "orig_nbformat": 4,
  "vscode": {
   "interpreter": {
    "hash": "647b31681ecde762f43a435d1948f4f4a8028af321143f0f6ab67bba3591d737"
   }
  }
 },
 "nbformat": 4,
 "nbformat_minor": 2
}
